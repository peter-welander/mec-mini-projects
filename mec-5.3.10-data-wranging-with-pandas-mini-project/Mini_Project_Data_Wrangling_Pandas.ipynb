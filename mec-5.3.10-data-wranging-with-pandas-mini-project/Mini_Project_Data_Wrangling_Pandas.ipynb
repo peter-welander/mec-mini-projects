{
 "cells": [
  {
   "cell_type": "markdown",
   "metadata": {},
   "source": [
    "# Mini-Project: Data Wrangling and Transformation with Pandas\n",
    "\n",
    "Working with tabular data is a necessity for anyone with enterprises having a majority of their data in relational databases and flat files. This mini-project is adopted from the excellent tutorial on pandas by Brandon Rhodes which you have watched earlier in the Data Wrangling Unit. In this mini-project, we will be looking at some interesting data based on movie data from the IMDB.\n",
    "\n",
    "This assignment should help you reinforce the concepts you learnt in the curriculum for Data Wrangling and sharpen your skills in using Pandas. Good Luck!"
   ]
  },
  {
   "cell_type": "markdown",
   "metadata": {},
   "source": [
    "### Please make sure you have one of the more recent versions of Pandas"
   ]
  },
  {
   "cell_type": "code",
   "execution_count": 1,
   "metadata": {
    "tags": []
   },
   "outputs": [],
   "source": [
    "import pandas as pd\n",
    "import matplotlib.pyplot as plt\n",
    "\n",
    "%matplotlib inline"
   ]
  },
  {
   "cell_type": "code",
   "execution_count": 2,
   "metadata": {
    "tags": []
   },
   "outputs": [
    {
     "data": {
      "text/plain": [
       "'1.5.3'"
      ]
     },
     "execution_count": 2,
     "metadata": {},
     "output_type": "execute_result"
    }
   ],
   "source": [
    "pd.__version__"
   ]
  },
  {
   "cell_type": "markdown",
   "metadata": {},
   "source": [
    "## Taking a look at the Movies dataset\n",
    "This data shows the movies based on their title and the year of release"
   ]
  },
  {
   "cell_type": "code",
   "execution_count": 3,
   "metadata": {
    "tags": []
   },
   "outputs": [
    {
     "name": "stdout",
     "output_type": "stream",
     "text": [
      "<class 'pandas.core.frame.DataFrame'>\n",
      "RangeIndex: 244914 entries, 0 to 244913\n",
      "Data columns (total 2 columns):\n",
      " #   Column  Non-Null Count   Dtype \n",
      "---  ------  --------------   ----- \n",
      " 0   title   244914 non-null  object\n",
      " 1   year    244914 non-null  int64 \n",
      "dtypes: int64(1), object(1)\n",
      "memory usage: 3.7+ MB\n"
     ]
    }
   ],
   "source": [
    "movies = pd.read_csv('titles.csv')\n",
    "movies.info()"
   ]
  },
  {
   "cell_type": "code",
   "execution_count": 4,
   "metadata": {
    "tags": []
   },
   "outputs": [
    {
     "data": {
      "text/html": [
       "<div>\n",
       "<style scoped>\n",
       "    .dataframe tbody tr th:only-of-type {\n",
       "        vertical-align: middle;\n",
       "    }\n",
       "\n",
       "    .dataframe tbody tr th {\n",
       "        vertical-align: top;\n",
       "    }\n",
       "\n",
       "    .dataframe thead th {\n",
       "        text-align: right;\n",
       "    }\n",
       "</style>\n",
       "<table border=\"1\" class=\"dataframe\">\n",
       "  <thead>\n",
       "    <tr style=\"text-align: right;\">\n",
       "      <th></th>\n",
       "      <th>title</th>\n",
       "      <th>year</th>\n",
       "    </tr>\n",
       "  </thead>\n",
       "  <tbody>\n",
       "    <tr>\n",
       "      <th>0</th>\n",
       "      <td>The Ticket to the Life</td>\n",
       "      <td>2009</td>\n",
       "    </tr>\n",
       "    <tr>\n",
       "      <th>1</th>\n",
       "      <td>Parallel Worlds: A New Rock Music Experience</td>\n",
       "      <td>2016</td>\n",
       "    </tr>\n",
       "    <tr>\n",
       "      <th>2</th>\n",
       "      <td>Morita - La hija de Jesus</td>\n",
       "      <td>2008</td>\n",
       "    </tr>\n",
       "    <tr>\n",
       "      <th>3</th>\n",
       "      <td>Gun</td>\n",
       "      <td>2017</td>\n",
       "    </tr>\n",
       "    <tr>\n",
       "      <th>4</th>\n",
       "      <td>Love or Nothing at All</td>\n",
       "      <td>2014</td>\n",
       "    </tr>\n",
       "  </tbody>\n",
       "</table>\n",
       "</div>"
      ],
      "text/plain": [
       "                                          title  year\n",
       "0                        The Ticket to the Life  2009\n",
       "1  Parallel Worlds: A New Rock Music Experience  2016\n",
       "2                     Morita - La hija de Jesus  2008\n",
       "3                                           Gun  2017\n",
       "4                        Love or Nothing at All  2014"
      ]
     },
     "execution_count": 4,
     "metadata": {},
     "output_type": "execute_result"
    }
   ],
   "source": [
    "movies.head()"
   ]
  },
  {
   "cell_type": "markdown",
   "metadata": {},
   "source": [
    "## Taking a look at the Cast dataset\n",
    "\n",
    "This data shows the cast (actors, actresses, supporting roles) for each movie\n",
    "\n",
    "- The attribute `n` basically tells the importance of the cast role, lower the number, more important the role.\n",
    "- Supporting cast usually don't have any value for `n`"
   ]
  },
  {
   "cell_type": "code",
   "execution_count": 5,
   "metadata": {
    "tags": []
   },
   "outputs": [
    {
     "name": "stdout",
     "output_type": "stream",
     "text": [
      "<class 'pandas.core.frame.DataFrame'>\n",
      "RangeIndex: 3786176 entries, 0 to 3786175\n",
      "Data columns (total 6 columns):\n",
      " #   Column     Dtype  \n",
      "---  ------     -----  \n",
      " 0   title      object \n",
      " 1   year       int64  \n",
      " 2   name       object \n",
      " 3   type       object \n",
      " 4   character  object \n",
      " 5   n          float64\n",
      "dtypes: float64(1), int64(1), object(4)\n",
      "memory usage: 173.3+ MB\n"
     ]
    }
   ],
   "source": [
    "cast = pd.read_csv('cast.csv.zip')\n",
    "cast.info()"
   ]
  },
  {
   "cell_type": "code",
   "execution_count": 6,
   "metadata": {
    "tags": []
   },
   "outputs": [
    {
     "data": {
      "text/html": [
       "<div>\n",
       "<style scoped>\n",
       "    .dataframe tbody tr th:only-of-type {\n",
       "        vertical-align: middle;\n",
       "    }\n",
       "\n",
       "    .dataframe tbody tr th {\n",
       "        vertical-align: top;\n",
       "    }\n",
       "\n",
       "    .dataframe thead th {\n",
       "        text-align: right;\n",
       "    }\n",
       "</style>\n",
       "<table border=\"1\" class=\"dataframe\">\n",
       "  <thead>\n",
       "    <tr style=\"text-align: right;\">\n",
       "      <th></th>\n",
       "      <th>title</th>\n",
       "      <th>year</th>\n",
       "      <th>name</th>\n",
       "      <th>type</th>\n",
       "      <th>character</th>\n",
       "      <th>n</th>\n",
       "    </tr>\n",
       "  </thead>\n",
       "  <tbody>\n",
       "    <tr>\n",
       "      <th>0</th>\n",
       "      <td>Closet Monster</td>\n",
       "      <td>2015</td>\n",
       "      <td>Buffy #1</td>\n",
       "      <td>actor</td>\n",
       "      <td>Buffy 4</td>\n",
       "      <td>31.0</td>\n",
       "    </tr>\n",
       "    <tr>\n",
       "      <th>1</th>\n",
       "      <td>Suuri illusioni</td>\n",
       "      <td>1985</td>\n",
       "      <td>Homo $</td>\n",
       "      <td>actor</td>\n",
       "      <td>Guests</td>\n",
       "      <td>22.0</td>\n",
       "    </tr>\n",
       "    <tr>\n",
       "      <th>2</th>\n",
       "      <td>Battle of the Sexes</td>\n",
       "      <td>2017</td>\n",
       "      <td>$hutter</td>\n",
       "      <td>actor</td>\n",
       "      <td>Bobby Riggs Fan</td>\n",
       "      <td>10.0</td>\n",
       "    </tr>\n",
       "    <tr>\n",
       "      <th>3</th>\n",
       "      <td>Secret in Their Eyes</td>\n",
       "      <td>2015</td>\n",
       "      <td>$hutter</td>\n",
       "      <td>actor</td>\n",
       "      <td>2002 Dodger Fan</td>\n",
       "      <td>NaN</td>\n",
       "    </tr>\n",
       "    <tr>\n",
       "      <th>4</th>\n",
       "      <td>Steve Jobs</td>\n",
       "      <td>2015</td>\n",
       "      <td>$hutter</td>\n",
       "      <td>actor</td>\n",
       "      <td>1988 Opera House Patron</td>\n",
       "      <td>NaN</td>\n",
       "    </tr>\n",
       "    <tr>\n",
       "      <th>5</th>\n",
       "      <td>Straight Outta Compton</td>\n",
       "      <td>2015</td>\n",
       "      <td>$hutter</td>\n",
       "      <td>actor</td>\n",
       "      <td>Club Patron</td>\n",
       "      <td>NaN</td>\n",
       "    </tr>\n",
       "    <tr>\n",
       "      <th>6</th>\n",
       "      <td>Straight Outta Compton</td>\n",
       "      <td>2015</td>\n",
       "      <td>$hutter</td>\n",
       "      <td>actor</td>\n",
       "      <td>Dopeman</td>\n",
       "      <td>NaN</td>\n",
       "    </tr>\n",
       "    <tr>\n",
       "      <th>7</th>\n",
       "      <td>For Thy Love 2</td>\n",
       "      <td>2009</td>\n",
       "      <td>Bee Moe $lim</td>\n",
       "      <td>actor</td>\n",
       "      <td>Thug 1</td>\n",
       "      <td>NaN</td>\n",
       "    </tr>\n",
       "    <tr>\n",
       "      <th>8</th>\n",
       "      <td>Lapis, Ballpen at Diploma, a True to Life Journey</td>\n",
       "      <td>2014</td>\n",
       "      <td>Jori ' Danilo' Jurado Jr.</td>\n",
       "      <td>actor</td>\n",
       "      <td>Jaime (young)</td>\n",
       "      <td>9.0</td>\n",
       "    </tr>\n",
       "    <tr>\n",
       "      <th>9</th>\n",
       "      <td>Desire (III)</td>\n",
       "      <td>2014</td>\n",
       "      <td>Syaiful 'Ariffin</td>\n",
       "      <td>actor</td>\n",
       "      <td>Actor Playing Eteocles from 'Antigone'</td>\n",
       "      <td>NaN</td>\n",
       "    </tr>\n",
       "  </tbody>\n",
       "</table>\n",
       "</div>"
      ],
      "text/plain": [
       "                                               title  year  \\\n",
       "0                                     Closet Monster  2015   \n",
       "1                                    Suuri illusioni  1985   \n",
       "2                                Battle of the Sexes  2017   \n",
       "3                               Secret in Their Eyes  2015   \n",
       "4                                         Steve Jobs  2015   \n",
       "5                             Straight Outta Compton  2015   \n",
       "6                             Straight Outta Compton  2015   \n",
       "7                                     For Thy Love 2  2009   \n",
       "8  Lapis, Ballpen at Diploma, a True to Life Journey  2014   \n",
       "9                                       Desire (III)  2014   \n",
       "\n",
       "                        name   type                               character  \\\n",
       "0                   Buffy #1  actor                                 Buffy 4   \n",
       "1                     Homo $  actor                                  Guests   \n",
       "2                    $hutter  actor                         Bobby Riggs Fan   \n",
       "3                    $hutter  actor                         2002 Dodger Fan   \n",
       "4                    $hutter  actor                 1988 Opera House Patron   \n",
       "5                    $hutter  actor                             Club Patron   \n",
       "6                    $hutter  actor                                 Dopeman   \n",
       "7               Bee Moe $lim  actor                                  Thug 1   \n",
       "8  Jori ' Danilo' Jurado Jr.  actor                           Jaime (young)   \n",
       "9           Syaiful 'Ariffin  actor  Actor Playing Eteocles from 'Antigone'   \n",
       "\n",
       "      n  \n",
       "0  31.0  \n",
       "1  22.0  \n",
       "2  10.0  \n",
       "3   NaN  \n",
       "4   NaN  \n",
       "5   NaN  \n",
       "6   NaN  \n",
       "7   NaN  \n",
       "8   9.0  \n",
       "9   NaN  "
      ]
     },
     "execution_count": 6,
     "metadata": {},
     "output_type": "execute_result"
    }
   ],
   "source": [
    "cast.head(10)"
   ]
  },
  {
   "cell_type": "markdown",
   "metadata": {},
   "source": [
    "## Taking a look at the Release dataset\n",
    "\n",
    "This data shows details of when each movie was release in each country with the release date"
   ]
  },
  {
   "cell_type": "code",
   "execution_count": 7,
   "metadata": {
    "tags": []
   },
   "outputs": [
    {
     "name": "stdout",
     "output_type": "stream",
     "text": [
      "<class 'pandas.core.frame.DataFrame'>\n",
      "RangeIndex: 479488 entries, 0 to 479487\n",
      "Data columns (total 4 columns):\n",
      " #   Column   Non-Null Count   Dtype         \n",
      "---  ------   --------------   -----         \n",
      " 0   title    479488 non-null  object        \n",
      " 1   year     479488 non-null  int64         \n",
      " 2   country  479488 non-null  object        \n",
      " 3   date     479488 non-null  datetime64[ns]\n",
      "dtypes: datetime64[ns](1), int64(1), object(2)\n",
      "memory usage: 14.6+ MB\n"
     ]
    }
   ],
   "source": [
    "release_dates = pd.read_csv('release_dates.csv', parse_dates=['date'], infer_datetime_format=True)\n",
    "release_dates.info()"
   ]
  },
  {
   "cell_type": "code",
   "execution_count": 8,
   "metadata": {
    "tags": []
   },
   "outputs": [
    {
     "data": {
      "text/html": [
       "<div>\n",
       "<style scoped>\n",
       "    .dataframe tbody tr th:only-of-type {\n",
       "        vertical-align: middle;\n",
       "    }\n",
       "\n",
       "    .dataframe tbody tr th {\n",
       "        vertical-align: top;\n",
       "    }\n",
       "\n",
       "    .dataframe thead th {\n",
       "        text-align: right;\n",
       "    }\n",
       "</style>\n",
       "<table border=\"1\" class=\"dataframe\">\n",
       "  <thead>\n",
       "    <tr style=\"text-align: right;\">\n",
       "      <th></th>\n",
       "      <th>title</th>\n",
       "      <th>year</th>\n",
       "      <th>country</th>\n",
       "      <th>date</th>\n",
       "    </tr>\n",
       "  </thead>\n",
       "  <tbody>\n",
       "    <tr>\n",
       "      <th>0</th>\n",
       "      <td>#73, Shaanthi Nivaasa</td>\n",
       "      <td>2007</td>\n",
       "      <td>India</td>\n",
       "      <td>2007-06-15</td>\n",
       "    </tr>\n",
       "    <tr>\n",
       "      <th>1</th>\n",
       "      <td>#BKKY</td>\n",
       "      <td>2016</td>\n",
       "      <td>Cambodia</td>\n",
       "      <td>2017-10-12</td>\n",
       "    </tr>\n",
       "    <tr>\n",
       "      <th>2</th>\n",
       "      <td>#Beings</td>\n",
       "      <td>2015</td>\n",
       "      <td>Romania</td>\n",
       "      <td>2015-01-29</td>\n",
       "    </tr>\n",
       "    <tr>\n",
       "      <th>3</th>\n",
       "      <td>#Captured</td>\n",
       "      <td>2017</td>\n",
       "      <td>USA</td>\n",
       "      <td>2017-09-05</td>\n",
       "    </tr>\n",
       "    <tr>\n",
       "      <th>4</th>\n",
       "      <td>#Ewankosau saranghaeyo</td>\n",
       "      <td>2015</td>\n",
       "      <td>Philippines</td>\n",
       "      <td>2015-01-21</td>\n",
       "    </tr>\n",
       "  </tbody>\n",
       "</table>\n",
       "</div>"
      ],
      "text/plain": [
       "                    title  year      country       date\n",
       "0   #73, Shaanthi Nivaasa  2007        India 2007-06-15\n",
       "1                   #BKKY  2016     Cambodia 2017-10-12\n",
       "2                 #Beings  2015      Romania 2015-01-29\n",
       "3               #Captured  2017          USA 2017-09-05\n",
       "4  #Ewankosau saranghaeyo  2015  Philippines 2015-01-21"
      ]
     },
     "execution_count": 8,
     "metadata": {},
     "output_type": "execute_result"
    }
   ],
   "source": [
    "release_dates.head()"
   ]
  },
  {
   "cell_type": "markdown",
   "metadata": {},
   "source": [
    "# Section I - Basic Querying, Filtering and Transformations"
   ]
  },
  {
   "cell_type": "markdown",
   "metadata": {},
   "source": [
    "### What is the total number of movies?"
   ]
  },
  {
   "cell_type": "code",
   "execution_count": 9,
   "metadata": {
    "tags": []
   },
   "outputs": [
    {
     "data": {
      "text/plain": [
       "244914"
      ]
     },
     "execution_count": 9,
     "metadata": {},
     "output_type": "execute_result"
    }
   ],
   "source": [
    "len(movies)"
   ]
  },
  {
   "cell_type": "markdown",
   "metadata": {},
   "source": [
    "### List all Batman movies ever made"
   ]
  },
  {
   "cell_type": "code",
   "execution_count": 10,
   "metadata": {
    "tags": []
   },
   "outputs": [
    {
     "name": "stdout",
     "output_type": "stream",
     "text": [
      "Total Batman Movies: 2\n"
     ]
    },
    {
     "data": {
      "text/html": [
       "<div>\n",
       "<style scoped>\n",
       "    .dataframe tbody tr th:only-of-type {\n",
       "        vertical-align: middle;\n",
       "    }\n",
       "\n",
       "    .dataframe tbody tr th {\n",
       "        vertical-align: top;\n",
       "    }\n",
       "\n",
       "    .dataframe thead th {\n",
       "        text-align: right;\n",
       "    }\n",
       "</style>\n",
       "<table border=\"1\" class=\"dataframe\">\n",
       "  <thead>\n",
       "    <tr style=\"text-align: right;\">\n",
       "      <th></th>\n",
       "      <th>title</th>\n",
       "      <th>year</th>\n",
       "    </tr>\n",
       "  </thead>\n",
       "  <tbody>\n",
       "    <tr>\n",
       "      <th>52734</th>\n",
       "      <td>Batman</td>\n",
       "      <td>1943</td>\n",
       "    </tr>\n",
       "    <tr>\n",
       "      <th>150621</th>\n",
       "      <td>Batman</td>\n",
       "      <td>1989</td>\n",
       "    </tr>\n",
       "  </tbody>\n",
       "</table>\n",
       "</div>"
      ],
      "text/plain": [
       "         title  year\n",
       "52734   Batman  1943\n",
       "150621  Batman  1989"
      ]
     },
     "execution_count": 10,
     "metadata": {},
     "output_type": "execute_result"
    }
   ],
   "source": [
    "batman_df = movies[movies.title == 'Batman']\n",
    "print('Total Batman Movies:', len(batman_df))\n",
    "batman_df"
   ]
  },
  {
   "cell_type": "markdown",
   "metadata": {},
   "source": [
    "### List all Batman movies ever made - the right approach"
   ]
  },
  {
   "cell_type": "code",
   "execution_count": 11,
   "metadata": {
    "tags": []
   },
   "outputs": [
    {
     "name": "stdout",
     "output_type": "stream",
     "text": [
      "Total Batman Movies: 35\n"
     ]
    },
    {
     "data": {
      "text/html": [
       "<div>\n",
       "<style scoped>\n",
       "    .dataframe tbody tr th:only-of-type {\n",
       "        vertical-align: middle;\n",
       "    }\n",
       "\n",
       "    .dataframe tbody tr th {\n",
       "        vertical-align: top;\n",
       "    }\n",
       "\n",
       "    .dataframe thead th {\n",
       "        text-align: right;\n",
       "    }\n",
       "</style>\n",
       "<table border=\"1\" class=\"dataframe\">\n",
       "  <thead>\n",
       "    <tr style=\"text-align: right;\">\n",
       "      <th></th>\n",
       "      <th>title</th>\n",
       "      <th>year</th>\n",
       "    </tr>\n",
       "  </thead>\n",
       "  <tbody>\n",
       "    <tr>\n",
       "      <th>16813</th>\n",
       "      <td>Batman: Anarchy</td>\n",
       "      <td>2016</td>\n",
       "    </tr>\n",
       "    <tr>\n",
       "      <th>30236</th>\n",
       "      <td>Batman Forever</td>\n",
       "      <td>1995</td>\n",
       "    </tr>\n",
       "    <tr>\n",
       "      <th>31674</th>\n",
       "      <td>Batman Untold</td>\n",
       "      <td>2010</td>\n",
       "    </tr>\n",
       "    <tr>\n",
       "      <th>31711</th>\n",
       "      <td>Scooby-Doo &amp; Batman: the Brave and the Bold</td>\n",
       "      <td>2018</td>\n",
       "    </tr>\n",
       "    <tr>\n",
       "      <th>41881</th>\n",
       "      <td>Batman the Rise of Red Hood</td>\n",
       "      <td>2018</td>\n",
       "    </tr>\n",
       "    <tr>\n",
       "      <th>43484</th>\n",
       "      <td>Batman: Return of the Caped Crusaders</td>\n",
       "      <td>2016</td>\n",
       "    </tr>\n",
       "    <tr>\n",
       "      <th>46333</th>\n",
       "      <td>Batman &amp; Robin</td>\n",
       "      <td>1997</td>\n",
       "    </tr>\n",
       "    <tr>\n",
       "      <th>51811</th>\n",
       "      <td>Batman Revealed</td>\n",
       "      <td>2012</td>\n",
       "    </tr>\n",
       "    <tr>\n",
       "      <th>52734</th>\n",
       "      <td>Batman</td>\n",
       "      <td>1943</td>\n",
       "    </tr>\n",
       "    <tr>\n",
       "      <th>56029</th>\n",
       "      <td>Batman Beyond: Rising Knight</td>\n",
       "      <td>2014</td>\n",
       "    </tr>\n",
       "  </tbody>\n",
       "</table>\n",
       "</div>"
      ],
      "text/plain": [
       "                                             title  year\n",
       "16813                              Batman: Anarchy  2016\n",
       "30236                               Batman Forever  1995\n",
       "31674                                Batman Untold  2010\n",
       "31711  Scooby-Doo & Batman: the Brave and the Bold  2018\n",
       "41881                  Batman the Rise of Red Hood  2018\n",
       "43484        Batman: Return of the Caped Crusaders  2016\n",
       "46333                               Batman & Robin  1997\n",
       "51811                              Batman Revealed  2012\n",
       "52734                                       Batman  1943\n",
       "56029                 Batman Beyond: Rising Knight  2014"
      ]
     },
     "execution_count": 11,
     "metadata": {},
     "output_type": "execute_result"
    }
   ],
   "source": [
    "batman_df = movies[movies.title.str.contains('Batman', case=False)]\n",
    "print('Total Batman Movies:', len(batman_df))\n",
    "batman_df.head(10)"
   ]
  },
  {
   "cell_type": "markdown",
   "metadata": {},
   "source": [
    "### Display the top 15 Batman movies in the order they were released"
   ]
  },
  {
   "cell_type": "code",
   "execution_count": 12,
   "metadata": {
    "tags": []
   },
   "outputs": [
    {
     "data": {
      "text/html": [
       "<div>\n",
       "<style scoped>\n",
       "    .dataframe tbody tr th:only-of-type {\n",
       "        vertical-align: middle;\n",
       "    }\n",
       "\n",
       "    .dataframe tbody tr th {\n",
       "        vertical-align: top;\n",
       "    }\n",
       "\n",
       "    .dataframe thead th {\n",
       "        text-align: right;\n",
       "    }\n",
       "</style>\n",
       "<table border=\"1\" class=\"dataframe\">\n",
       "  <thead>\n",
       "    <tr style=\"text-align: right;\">\n",
       "      <th></th>\n",
       "      <th>title</th>\n",
       "      <th>year</th>\n",
       "    </tr>\n",
       "  </thead>\n",
       "  <tbody>\n",
       "    <tr>\n",
       "      <th>52734</th>\n",
       "      <td>Batman</td>\n",
       "      <td>1943</td>\n",
       "    </tr>\n",
       "    <tr>\n",
       "      <th>100056</th>\n",
       "      <td>Batman and Robin</td>\n",
       "      <td>1949</td>\n",
       "    </tr>\n",
       "    <tr>\n",
       "      <th>161439</th>\n",
       "      <td>Batman Dracula</td>\n",
       "      <td>1964</td>\n",
       "    </tr>\n",
       "    <tr>\n",
       "      <th>84327</th>\n",
       "      <td>Alyas Batman at Robin</td>\n",
       "      <td>1965</td>\n",
       "    </tr>\n",
       "    <tr>\n",
       "      <th>68364</th>\n",
       "      <td>James Batman</td>\n",
       "      <td>1966</td>\n",
       "    </tr>\n",
       "    <tr>\n",
       "      <th>161527</th>\n",
       "      <td>Batman: The Movie</td>\n",
       "      <td>1966</td>\n",
       "    </tr>\n",
       "    <tr>\n",
       "      <th>56159</th>\n",
       "      <td>Batman Fights Dracula</td>\n",
       "      <td>1967</td>\n",
       "    </tr>\n",
       "    <tr>\n",
       "      <th>168504</th>\n",
       "      <td>Fight! Batman, Fight!</td>\n",
       "      <td>1973</td>\n",
       "    </tr>\n",
       "    <tr>\n",
       "      <th>150621</th>\n",
       "      <td>Batman</td>\n",
       "      <td>1989</td>\n",
       "    </tr>\n",
       "    <tr>\n",
       "      <th>156239</th>\n",
       "      <td>Alyas Batman en Robin</td>\n",
       "      <td>1991</td>\n",
       "    </tr>\n",
       "    <tr>\n",
       "      <th>156755</th>\n",
       "      <td>Batman Returns</td>\n",
       "      <td>1992</td>\n",
       "    </tr>\n",
       "    <tr>\n",
       "      <th>63366</th>\n",
       "      <td>Batman: Mask of the Phantasm</td>\n",
       "      <td>1993</td>\n",
       "    </tr>\n",
       "    <tr>\n",
       "      <th>30236</th>\n",
       "      <td>Batman Forever</td>\n",
       "      <td>1995</td>\n",
       "    </tr>\n",
       "    <tr>\n",
       "      <th>46333</th>\n",
       "      <td>Batman &amp; Robin</td>\n",
       "      <td>1997</td>\n",
       "    </tr>\n",
       "    <tr>\n",
       "      <th>208220</th>\n",
       "      <td>Batman Begins</td>\n",
       "      <td>2005</td>\n",
       "    </tr>\n",
       "  </tbody>\n",
       "</table>\n",
       "</div>"
      ],
      "text/plain": [
       "                               title  year\n",
       "52734                         Batman  1943\n",
       "100056              Batman and Robin  1949\n",
       "161439                Batman Dracula  1964\n",
       "84327          Alyas Batman at Robin  1965\n",
       "68364                   James Batman  1966\n",
       "161527             Batman: The Movie  1966\n",
       "56159          Batman Fights Dracula  1967\n",
       "168504         Fight! Batman, Fight!  1973\n",
       "150621                        Batman  1989\n",
       "156239         Alyas Batman en Robin  1991\n",
       "156755                Batman Returns  1992\n",
       "63366   Batman: Mask of the Phantasm  1993\n",
       "30236                 Batman Forever  1995\n",
       "46333                 Batman & Robin  1997\n",
       "208220                 Batman Begins  2005"
      ]
     },
     "execution_count": 12,
     "metadata": {},
     "output_type": "execute_result"
    }
   ],
   "source": [
    "batman_df.sort_values(by=['year'], ascending=True).iloc[:15]"
   ]
  },
  {
   "cell_type": "markdown",
   "metadata": {},
   "source": [
    "### Section I - Q1 : List all the 'Harry Potter' movies from the most recent to the earliest"
   ]
  },
  {
   "cell_type": "code",
   "execution_count": 13,
   "metadata": {
    "tags": []
   },
   "outputs": [
    {
     "data": {
      "text/html": [
       "<div>\n",
       "<style scoped>\n",
       "    .dataframe tbody tr th:only-of-type {\n",
       "        vertical-align: middle;\n",
       "    }\n",
       "\n",
       "    .dataframe tbody tr th {\n",
       "        vertical-align: top;\n",
       "    }\n",
       "\n",
       "    .dataframe thead th {\n",
       "        text-align: right;\n",
       "    }\n",
       "</style>\n",
       "<table border=\"1\" class=\"dataframe\">\n",
       "  <thead>\n",
       "    <tr style=\"text-align: right;\">\n",
       "      <th></th>\n",
       "      <th>title</th>\n",
       "      <th>year</th>\n",
       "    </tr>\n",
       "  </thead>\n",
       "  <tbody>\n",
       "    <tr>\n",
       "      <th>143147</th>\n",
       "      <td>Harry Potter and the Deathly Hallows: Part 2</td>\n",
       "      <td>2011</td>\n",
       "    </tr>\n",
       "    <tr>\n",
       "      <th>152831</th>\n",
       "      <td>Harry Potter and the Deathly Hallows: Part 1</td>\n",
       "      <td>2010</td>\n",
       "    </tr>\n",
       "    <tr>\n",
       "      <th>109213</th>\n",
       "      <td>Harry Potter and the Half-Blood Prince</td>\n",
       "      <td>2009</td>\n",
       "    </tr>\n",
       "    <tr>\n",
       "      <th>50581</th>\n",
       "      <td>Harry Potter and the Order of the Phoenix</td>\n",
       "      <td>2007</td>\n",
       "    </tr>\n",
       "    <tr>\n",
       "      <th>187926</th>\n",
       "      <td>Harry Potter and the Goblet of Fire</td>\n",
       "      <td>2005</td>\n",
       "    </tr>\n",
       "    <tr>\n",
       "      <th>61957</th>\n",
       "      <td>Harry Potter and the Prisoner of Azkaban</td>\n",
       "      <td>2004</td>\n",
       "    </tr>\n",
       "    <tr>\n",
       "      <th>82791</th>\n",
       "      <td>Harry Potter and the Chamber of Secrets</td>\n",
       "      <td>2002</td>\n",
       "    </tr>\n",
       "    <tr>\n",
       "      <th>223087</th>\n",
       "      <td>Harry Potter and the Sorcerer's Stone</td>\n",
       "      <td>2001</td>\n",
       "    </tr>\n",
       "  </tbody>\n",
       "</table>\n",
       "</div>"
      ],
      "text/plain": [
       "                                               title  year\n",
       "143147  Harry Potter and the Deathly Hallows: Part 2  2011\n",
       "152831  Harry Potter and the Deathly Hallows: Part 1  2010\n",
       "109213        Harry Potter and the Half-Blood Prince  2009\n",
       "50581      Harry Potter and the Order of the Phoenix  2007\n",
       "187926           Harry Potter and the Goblet of Fire  2005\n",
       "61957       Harry Potter and the Prisoner of Azkaban  2004\n",
       "82791        Harry Potter and the Chamber of Secrets  2002\n",
       "223087         Harry Potter and the Sorcerer's Stone  2001"
      ]
     },
     "execution_count": 13,
     "metadata": {},
     "output_type": "execute_result"
    }
   ],
   "source": [
    "harry_potter_df = movies[movies.title.str.contains('Harry Potter', case=False)]\n",
    "harry_potter_df.sort_values(by=['year'], ascending=False)"
   ]
  },
  {
   "cell_type": "markdown",
   "metadata": {},
   "source": [
    "### How many movies were made in the year 2017?"
   ]
  },
  {
   "cell_type": "code",
   "execution_count": 14,
   "metadata": {
    "tags": []
   },
   "outputs": [
    {
     "data": {
      "text/plain": [
       "11474"
      ]
     },
     "execution_count": 14,
     "metadata": {},
     "output_type": "execute_result"
    }
   ],
   "source": [
    "len(movies[movies.year == 2017])"
   ]
  },
  {
   "cell_type": "markdown",
   "metadata": {},
   "source": [
    "### Section I - Q2 : How many movies were made in the year 2015?"
   ]
  },
  {
   "cell_type": "code",
   "execution_count": 15,
   "metadata": {
    "tags": []
   },
   "outputs": [
    {
     "data": {
      "text/plain": [
       "8702"
      ]
     },
     "execution_count": 15,
     "metadata": {},
     "output_type": "execute_result"
    }
   ],
   "source": [
    "len(movies[movies.year == 2015])"
   ]
  },
  {
   "cell_type": "markdown",
   "metadata": {},
   "source": [
    "### Section I - Q3 : How many movies were made from 2000 till 2018?\n",
    "- You can chain multiple conditions using OR (`|`) as well as AND (`&`) depending on the condition"
   ]
  },
  {
   "cell_type": "code",
   "execution_count": 16,
   "metadata": {
    "tags": []
   },
   "outputs": [
    {
     "data": {
      "text/plain": [
       "114070"
      ]
     },
     "execution_count": 16,
     "metadata": {},
     "output_type": "execute_result"
    }
   ],
   "source": [
    "len(movies[(2000 <= movies.year) & (movies.year <= 2018)])"
   ]
  },
  {
   "cell_type": "markdown",
   "metadata": {},
   "source": [
    "### Section I - Q4: How many movies are titled \"Hamlet\"?"
   ]
  },
  {
   "cell_type": "code",
   "execution_count": 17,
   "metadata": {
    "tags": []
   },
   "outputs": [
    {
     "data": {
      "text/plain": [
       "20"
      ]
     },
     "execution_count": 17,
     "metadata": {},
     "output_type": "execute_result"
    }
   ],
   "source": [
    "hamlet_df = movies[movies[\"title\"] == \"Hamlet\"]\n",
    "len(hamlet_df)"
   ]
  },
  {
   "cell_type": "markdown",
   "metadata": {},
   "source": [
    "### Section I - Q5: List all movies titled \"Hamlet\" \n",
    "- The movies should only have been released on or after the year 2000\n",
    "- Display the movies based on the year they were released (earliest to most recent)"
   ]
  },
  {
   "cell_type": "code",
   "execution_count": 18,
   "metadata": {
    "tags": []
   },
   "outputs": [
    {
     "data": {
      "text/html": [
       "<div>\n",
       "<style scoped>\n",
       "    .dataframe tbody tr th:only-of-type {\n",
       "        vertical-align: middle;\n",
       "    }\n",
       "\n",
       "    .dataframe tbody tr th {\n",
       "        vertical-align: top;\n",
       "    }\n",
       "\n",
       "    .dataframe thead th {\n",
       "        text-align: right;\n",
       "    }\n",
       "</style>\n",
       "<table border=\"1\" class=\"dataframe\">\n",
       "  <thead>\n",
       "    <tr style=\"text-align: right;\">\n",
       "      <th></th>\n",
       "      <th>title</th>\n",
       "      <th>year</th>\n",
       "    </tr>\n",
       "  </thead>\n",
       "  <tbody>\n",
       "    <tr>\n",
       "      <th>55639</th>\n",
       "      <td>Hamlet</td>\n",
       "      <td>2000</td>\n",
       "    </tr>\n",
       "    <tr>\n",
       "      <th>1931</th>\n",
       "      <td>Hamlet</td>\n",
       "      <td>2009</td>\n",
       "    </tr>\n",
       "    <tr>\n",
       "      <th>227953</th>\n",
       "      <td>Hamlet</td>\n",
       "      <td>2011</td>\n",
       "    </tr>\n",
       "    <tr>\n",
       "      <th>178290</th>\n",
       "      <td>Hamlet</td>\n",
       "      <td>2014</td>\n",
       "    </tr>\n",
       "    <tr>\n",
       "      <th>186137</th>\n",
       "      <td>Hamlet</td>\n",
       "      <td>2015</td>\n",
       "    </tr>\n",
       "    <tr>\n",
       "      <th>191940</th>\n",
       "      <td>Hamlet</td>\n",
       "      <td>2016</td>\n",
       "    </tr>\n",
       "    <tr>\n",
       "      <th>244747</th>\n",
       "      <td>Hamlet</td>\n",
       "      <td>2017</td>\n",
       "    </tr>\n",
       "  </tbody>\n",
       "</table>\n",
       "</div>"
      ],
      "text/plain": [
       "         title  year\n",
       "55639   Hamlet  2000\n",
       "1931    Hamlet  2009\n",
       "227953  Hamlet  2011\n",
       "178290  Hamlet  2014\n",
       "186137  Hamlet  2015\n",
       "191940  Hamlet  2016\n",
       "244747  Hamlet  2017"
      ]
     },
     "execution_count": 18,
     "metadata": {},
     "output_type": "execute_result"
    }
   ],
   "source": [
    "hamlet_df_after_2000 = hamlet_df[2000 <= hamlet_df.year]\n",
    "hamlet_df_after_2000.sort_values(by=['year'])"
   ]
  },
  {
   "cell_type": "markdown",
   "metadata": {},
   "source": [
    "### Section I - Q6: How many roles in the movie \"Inception\" are of the supporting cast (extra credits)\n",
    "- supporting cast are NOT ranked by an \"n\" value (NaN)\n",
    "- check for how to filter based on nulls"
   ]
  },
  {
   "cell_type": "code",
   "execution_count": 19,
   "metadata": {
    "tags": []
   },
   "outputs": [
    {
     "data": {
      "text/plain": [
       "27"
      ]
     },
     "execution_count": 19,
     "metadata": {},
     "output_type": "execute_result"
    }
   ],
   "source": [
    "inception_cast = cast[cast.title == \"Inception\"]\n",
    "inception_supporting_cast = inception_cast[inception_cast.n.isnull()]\n",
    "len(inception_supporting_cast)"
   ]
  },
  {
   "cell_type": "markdown",
   "metadata": {},
   "source": [
    "### Section I - Q7: How many roles in the movie \"Inception\" are of the main cast\n",
    "- main cast always have an 'n' value"
   ]
  },
  {
   "cell_type": "code",
   "execution_count": 20,
   "metadata": {
    "tags": []
   },
   "outputs": [
    {
     "data": {
      "text/plain": [
       "51"
      ]
     },
     "execution_count": 20,
     "metadata": {},
     "output_type": "execute_result"
    }
   ],
   "source": [
    "inception_main_cast = inception_cast[inception_cast.n.notnull()]\n",
    "len(inception_main_cast)"
   ]
  },
  {
   "cell_type": "markdown",
   "metadata": {},
   "source": [
    "### Section I - Q8: Show the top ten cast (actors\\actresses) in the movie \"Inception\" \n",
    "- main cast always have an 'n' value\n",
    "- remember to sort!"
   ]
  },
  {
   "cell_type": "code",
   "execution_count": 21,
   "metadata": {
    "tags": []
   },
   "outputs": [
    {
     "data": {
      "text/html": [
       "<div>\n",
       "<style scoped>\n",
       "    .dataframe tbody tr th:only-of-type {\n",
       "        vertical-align: middle;\n",
       "    }\n",
       "\n",
       "    .dataframe tbody tr th {\n",
       "        vertical-align: top;\n",
       "    }\n",
       "\n",
       "    .dataframe thead th {\n",
       "        text-align: right;\n",
       "    }\n",
       "</style>\n",
       "<table border=\"1\" class=\"dataframe\">\n",
       "  <thead>\n",
       "    <tr style=\"text-align: right;\">\n",
       "      <th></th>\n",
       "      <th>title</th>\n",
       "      <th>year</th>\n",
       "      <th>name</th>\n",
       "      <th>type</th>\n",
       "      <th>character</th>\n",
       "      <th>n</th>\n",
       "    </tr>\n",
       "  </thead>\n",
       "  <tbody>\n",
       "    <tr>\n",
       "      <th>590576</th>\n",
       "      <td>Inception</td>\n",
       "      <td>2010</td>\n",
       "      <td>Leonardo DiCaprio</td>\n",
       "      <td>actor</td>\n",
       "      <td>Cobb</td>\n",
       "      <td>1.0</td>\n",
       "    </tr>\n",
       "    <tr>\n",
       "      <th>859993</th>\n",
       "      <td>Inception</td>\n",
       "      <td>2010</td>\n",
       "      <td>Joseph Gordon-Levitt</td>\n",
       "      <td>actor</td>\n",
       "      <td>Arthur</td>\n",
       "      <td>2.0</td>\n",
       "    </tr>\n",
       "    <tr>\n",
       "      <th>3387147</th>\n",
       "      <td>Inception</td>\n",
       "      <td>2010</td>\n",
       "      <td>Ellen Page</td>\n",
       "      <td>actress</td>\n",
       "      <td>Ariadne</td>\n",
       "      <td>3.0</td>\n",
       "    </tr>\n",
       "    <tr>\n",
       "      <th>940923</th>\n",
       "      <td>Inception</td>\n",
       "      <td>2010</td>\n",
       "      <td>Tom Hardy</td>\n",
       "      <td>actor</td>\n",
       "      <td>Eames</td>\n",
       "      <td>4.0</td>\n",
       "    </tr>\n",
       "    <tr>\n",
       "      <th>2406531</th>\n",
       "      <td>Inception</td>\n",
       "      <td>2010</td>\n",
       "      <td>Ken Watanabe</td>\n",
       "      <td>actor</td>\n",
       "      <td>Saito</td>\n",
       "      <td>5.0</td>\n",
       "    </tr>\n",
       "    <tr>\n",
       "      <th>1876301</th>\n",
       "      <td>Inception</td>\n",
       "      <td>2010</td>\n",
       "      <td>Dileep Rao</td>\n",
       "      <td>actor</td>\n",
       "      <td>Yusuf</td>\n",
       "      <td>6.0</td>\n",
       "    </tr>\n",
       "    <tr>\n",
       "      <th>1615709</th>\n",
       "      <td>Inception</td>\n",
       "      <td>2010</td>\n",
       "      <td>Cillian Murphy</td>\n",
       "      <td>actor</td>\n",
       "      <td>Robert Fischer</td>\n",
       "      <td>7.0</td>\n",
       "    </tr>\n",
       "    <tr>\n",
       "      <th>183937</th>\n",
       "      <td>Inception</td>\n",
       "      <td>2010</td>\n",
       "      <td>Tom Berenger</td>\n",
       "      <td>actor</td>\n",
       "      <td>Browning</td>\n",
       "      <td>8.0</td>\n",
       "    </tr>\n",
       "    <tr>\n",
       "      <th>2765969</th>\n",
       "      <td>Inception</td>\n",
       "      <td>2010</td>\n",
       "      <td>Marion Cotillard</td>\n",
       "      <td>actress</td>\n",
       "      <td>Mal</td>\n",
       "      <td>9.0</td>\n",
       "    </tr>\n",
       "    <tr>\n",
       "      <th>1826027</th>\n",
       "      <td>Inception</td>\n",
       "      <td>2010</td>\n",
       "      <td>Pete Postlethwaite</td>\n",
       "      <td>actor</td>\n",
       "      <td>Maurice Fischer</td>\n",
       "      <td>10.0</td>\n",
       "    </tr>\n",
       "  </tbody>\n",
       "</table>\n",
       "</div>"
      ],
      "text/plain": [
       "             title  year                  name     type        character     n\n",
       "590576   Inception  2010     Leonardo DiCaprio    actor             Cobb   1.0\n",
       "859993   Inception  2010  Joseph Gordon-Levitt    actor           Arthur   2.0\n",
       "3387147  Inception  2010            Ellen Page  actress          Ariadne   3.0\n",
       "940923   Inception  2010             Tom Hardy    actor            Eames   4.0\n",
       "2406531  Inception  2010          Ken Watanabe    actor            Saito   5.0\n",
       "1876301  Inception  2010            Dileep Rao    actor            Yusuf   6.0\n",
       "1615709  Inception  2010        Cillian Murphy    actor   Robert Fischer   7.0\n",
       "183937   Inception  2010          Tom Berenger    actor         Browning   8.0\n",
       "2765969  Inception  2010      Marion Cotillard  actress              Mal   9.0\n",
       "1826027  Inception  2010    Pete Postlethwaite    actor  Maurice Fischer  10.0"
      ]
     },
     "execution_count": 21,
     "metadata": {},
     "output_type": "execute_result"
    }
   ],
   "source": [
    "inception_main_cast = inception_main_cast.sort_values(\"n\")\n",
    "inception_main_cast.head(10)"
   ]
  },
  {
   "cell_type": "markdown",
   "metadata": {},
   "source": [
    "### Section I - Q9:\n",
    "\n",
    "(A) List all movies where there was a character 'Albus Dumbledore' \n",
    "\n",
    "(B) Now modify the above to show only the actors who played the character 'Albus Dumbledore'\n",
    "- For Part (B) remember the same actor might play the same role in multiple movies"
   ]
  },
  {
   "cell_type": "code",
   "execution_count": 22,
   "metadata": {
    "tags": []
   },
   "outputs": [
    {
     "data": {
      "text/html": [
       "<div>\n",
       "<style scoped>\n",
       "    .dataframe tbody tr th:only-of-type {\n",
       "        vertical-align: middle;\n",
       "    }\n",
       "\n",
       "    .dataframe tbody tr th {\n",
       "        vertical-align: top;\n",
       "    }\n",
       "\n",
       "    .dataframe thead th {\n",
       "        text-align: right;\n",
       "    }\n",
       "</style>\n",
       "<table border=\"1\" class=\"dataframe\">\n",
       "  <thead>\n",
       "    <tr style=\"text-align: right;\">\n",
       "      <th></th>\n",
       "      <th>title</th>\n",
       "      <th>year</th>\n",
       "      <th>name</th>\n",
       "      <th>type</th>\n",
       "      <th>character</th>\n",
       "      <th>n</th>\n",
       "    </tr>\n",
       "  </thead>\n",
       "  <tbody>\n",
       "    <tr>\n",
       "      <th>947790</th>\n",
       "      <td>Harry Potter and the Sorcerer's Stone</td>\n",
       "      <td>2001</td>\n",
       "      <td>Richard Harris</td>\n",
       "      <td>actor</td>\n",
       "      <td>Albus Dumbledore</td>\n",
       "      <td>1.0</td>\n",
       "    </tr>\n",
       "    <tr>\n",
       "      <th>947789</th>\n",
       "      <td>Harry Potter and the Chamber of Secrets</td>\n",
       "      <td>2002</td>\n",
       "      <td>Richard Harris</td>\n",
       "      <td>actor</td>\n",
       "      <td>Albus Dumbledore</td>\n",
       "      <td>32.0</td>\n",
       "    </tr>\n",
       "    <tr>\n",
       "      <th>792424</th>\n",
       "      <td>Harry Potter and the Prisoner of Azkaban</td>\n",
       "      <td>2004</td>\n",
       "      <td>Michael Gambon</td>\n",
       "      <td>actor</td>\n",
       "      <td>Albus Dumbledore</td>\n",
       "      <td>27.0</td>\n",
       "    </tr>\n",
       "    <tr>\n",
       "      <th>792421</th>\n",
       "      <td>Harry Potter and the Goblet of Fire</td>\n",
       "      <td>2005</td>\n",
       "      <td>Michael Gambon</td>\n",
       "      <td>actor</td>\n",
       "      <td>Albus Dumbledore</td>\n",
       "      <td>37.0</td>\n",
       "    </tr>\n",
       "    <tr>\n",
       "      <th>704984</th>\n",
       "      <td>Epic Movie</td>\n",
       "      <td>2007</td>\n",
       "      <td>Dane Farwell</td>\n",
       "      <td>actor</td>\n",
       "      <td>Albus Dumbledore</td>\n",
       "      <td>17.0</td>\n",
       "    </tr>\n",
       "    <tr>\n",
       "      <th>792423</th>\n",
       "      <td>Harry Potter and the Order of the Phoenix</td>\n",
       "      <td>2007</td>\n",
       "      <td>Michael Gambon</td>\n",
       "      <td>actor</td>\n",
       "      <td>Albus Dumbledore</td>\n",
       "      <td>36.0</td>\n",
       "    </tr>\n",
       "    <tr>\n",
       "      <th>1685537</th>\n",
       "      <td>Ultimate Hero Project</td>\n",
       "      <td>2013</td>\n",
       "      <td>George (X) O'Connor</td>\n",
       "      <td>actor</td>\n",
       "      <td>Albus Dumbledore</td>\n",
       "      <td>NaN</td>\n",
       "    </tr>\n",
       "    <tr>\n",
       "      <th>2248085</th>\n",
       "      <td>Potter</td>\n",
       "      <td>2015</td>\n",
       "      <td>Timothy Tedmanson</td>\n",
       "      <td>actor</td>\n",
       "      <td>Albus Dumbledore</td>\n",
       "      <td>NaN</td>\n",
       "    </tr>\n",
       "  </tbody>\n",
       "</table>\n",
       "</div>"
      ],
      "text/plain": [
       "                                             title  year                 name  \\\n",
       "947790       Harry Potter and the Sorcerer's Stone  2001       Richard Harris   \n",
       "947789     Harry Potter and the Chamber of Secrets  2002       Richard Harris   \n",
       "792424    Harry Potter and the Prisoner of Azkaban  2004       Michael Gambon   \n",
       "792421         Harry Potter and the Goblet of Fire  2005       Michael Gambon   \n",
       "704984                                  Epic Movie  2007         Dane Farwell   \n",
       "792423   Harry Potter and the Order of the Phoenix  2007       Michael Gambon   \n",
       "1685537                      Ultimate Hero Project  2013  George (X) O'Connor   \n",
       "2248085                                     Potter  2015    Timothy Tedmanson   \n",
       "\n",
       "          type         character     n  \n",
       "947790   actor  Albus Dumbledore   1.0  \n",
       "947789   actor  Albus Dumbledore  32.0  \n",
       "792424   actor  Albus Dumbledore  27.0  \n",
       "792421   actor  Albus Dumbledore  37.0  \n",
       "704984   actor  Albus Dumbledore  17.0  \n",
       "792423   actor  Albus Dumbledore  36.0  \n",
       "1685537  actor  Albus Dumbledore   NaN  \n",
       "2248085  actor  Albus Dumbledore   NaN  "
      ]
     },
     "execution_count": 22,
     "metadata": {},
     "output_type": "execute_result"
    }
   ],
   "source": [
    "dumbledore_movies = cast[cast.character == 'Albus Dumbledore']\n",
    "dumbledore_movies.sort_values(\"year\")"
   ]
  },
  {
   "cell_type": "code",
   "execution_count": 23,
   "metadata": {
    "tags": []
   },
   "outputs": [
    {
     "data": {
      "text/plain": [
       "704984            Dane Farwell\n",
       "1685537    George (X) O'Connor\n",
       "792421          Michael Gambon\n",
       "947789          Richard Harris\n",
       "2248085      Timothy Tedmanson\n",
       "Name: name, dtype: object"
      ]
     },
     "execution_count": 23,
     "metadata": {},
     "output_type": "execute_result"
    }
   ],
   "source": [
    "dumbledore_actors = dumbledore_movies[\"name\"].drop_duplicates()\n",
    "dumbledore_actors.sort_values()"
   ]
  },
  {
   "cell_type": "markdown",
   "metadata": {},
   "source": [
    "### Section I - Q10:\n",
    "\n",
    "(A) How many roles has 'Keanu Reeves' played throughout his career?\n",
    "\n",
    "(B) List the leading roles that 'Keanu Reeves' played on or after 1999 in order by year."
   ]
  },
  {
   "cell_type": "code",
   "execution_count": 24,
   "metadata": {
    "tags": []
   },
   "outputs": [
    {
     "data": {
      "text/plain": [
       "62"
      ]
     },
     "execution_count": 24,
     "metadata": {},
     "output_type": "execute_result"
    }
   ],
   "source": [
    "keanu_movies = cast[cast.name == 'Keanu Reeves']\n",
    "len(keanu_movies)"
   ]
  },
  {
   "cell_type": "code",
   "execution_count": 25,
   "metadata": {
    "tags": []
   },
   "outputs": [
    {
     "data": {
      "text/html": [
       "<div>\n",
       "<style scoped>\n",
       "    .dataframe tbody tr th:only-of-type {\n",
       "        vertical-align: middle;\n",
       "    }\n",
       "\n",
       "    .dataframe tbody tr th {\n",
       "        vertical-align: top;\n",
       "    }\n",
       "\n",
       "    .dataframe thead th {\n",
       "        text-align: right;\n",
       "    }\n",
       "</style>\n",
       "<table border=\"1\" class=\"dataframe\">\n",
       "  <thead>\n",
       "    <tr style=\"text-align: right;\">\n",
       "      <th></th>\n",
       "      <th>title</th>\n",
       "      <th>year</th>\n",
       "      <th>name</th>\n",
       "      <th>type</th>\n",
       "      <th>character</th>\n",
       "      <th>n</th>\n",
       "    </tr>\n",
       "  </thead>\n",
       "  <tbody>\n",
       "    <tr>\n",
       "      <th>1892390</th>\n",
       "      <td>The Matrix</td>\n",
       "      <td>1999</td>\n",
       "      <td>Keanu Reeves</td>\n",
       "      <td>actor</td>\n",
       "      <td>Neo</td>\n",
       "      <td>1.0</td>\n",
       "    </tr>\n",
       "    <tr>\n",
       "      <th>1892397</th>\n",
       "      <td>The Replacements</td>\n",
       "      <td>2000</td>\n",
       "      <td>Keanu Reeves</td>\n",
       "      <td>actor</td>\n",
       "      <td>Shane Falco</td>\n",
       "      <td>1.0</td>\n",
       "    </tr>\n",
       "    <tr>\n",
       "      <th>1892358</th>\n",
       "      <td>Hard Ball</td>\n",
       "      <td>2001</td>\n",
       "      <td>Keanu Reeves</td>\n",
       "      <td>actor</td>\n",
       "      <td>Conor O'Neill</td>\n",
       "      <td>1.0</td>\n",
       "    </tr>\n",
       "    <tr>\n",
       "      <th>1892383</th>\n",
       "      <td>Sweet November</td>\n",
       "      <td>2001</td>\n",
       "      <td>Keanu Reeves</td>\n",
       "      <td>actor</td>\n",
       "      <td>Nelson Moss</td>\n",
       "      <td>1.0</td>\n",
       "    </tr>\n",
       "    <tr>\n",
       "      <th>1892348</th>\n",
       "      <td>Constantine</td>\n",
       "      <td>2005</td>\n",
       "      <td>Keanu Reeves</td>\n",
       "      <td>actor</td>\n",
       "      <td>John Constantine</td>\n",
       "      <td>1.0</td>\n",
       "    </tr>\n",
       "    <tr>\n",
       "      <th>1892388</th>\n",
       "      <td>The Lake House</td>\n",
       "      <td>2006</td>\n",
       "      <td>Keanu Reeves</td>\n",
       "      <td>actor</td>\n",
       "      <td>Alex Wyler</td>\n",
       "      <td>1.0</td>\n",
       "    </tr>\n",
       "    <tr>\n",
       "      <th>1892382</th>\n",
       "      <td>Street Kings</td>\n",
       "      <td>2008</td>\n",
       "      <td>Keanu Reeves</td>\n",
       "      <td>actor</td>\n",
       "      <td>Detective Tom Ludlow</td>\n",
       "      <td>1.0</td>\n",
       "    </tr>\n",
       "    <tr>\n",
       "      <th>1892385</th>\n",
       "      <td>The Day the Earth Stood Still</td>\n",
       "      <td>2008</td>\n",
       "      <td>Keanu Reeves</td>\n",
       "      <td>actor</td>\n",
       "      <td>Klaatu</td>\n",
       "      <td>1.0</td>\n",
       "    </tr>\n",
       "    <tr>\n",
       "      <th>1892359</th>\n",
       "      <td>Henry's Crime</td>\n",
       "      <td>2010</td>\n",
       "      <td>Keanu Reeves</td>\n",
       "      <td>actor</td>\n",
       "      <td>Henry Torne</td>\n",
       "      <td>1.0</td>\n",
       "    </tr>\n",
       "    <tr>\n",
       "      <th>1892342</th>\n",
       "      <td>47 Ronin</td>\n",
       "      <td>2013</td>\n",
       "      <td>Keanu Reeves</td>\n",
       "      <td>actor</td>\n",
       "      <td>Kai</td>\n",
       "      <td>1.0</td>\n",
       "    </tr>\n",
       "    <tr>\n",
       "      <th>1892361</th>\n",
       "      <td>John Wick</td>\n",
       "      <td>2014</td>\n",
       "      <td>Keanu Reeves</td>\n",
       "      <td>actor</td>\n",
       "      <td>John Wick</td>\n",
       "      <td>1.0</td>\n",
       "    </tr>\n",
       "    <tr>\n",
       "      <th>1892366</th>\n",
       "      <td>Knock Knock</td>\n",
       "      <td>2015</td>\n",
       "      <td>Keanu Reeves</td>\n",
       "      <td>actor</td>\n",
       "      <td>Evan</td>\n",
       "      <td>1.0</td>\n",
       "    </tr>\n",
       "    <tr>\n",
       "      <th>1892399</th>\n",
       "      <td>The Whole Truth</td>\n",
       "      <td>2016</td>\n",
       "      <td>Keanu Reeves</td>\n",
       "      <td>actor</td>\n",
       "      <td>Ramsey</td>\n",
       "      <td>1.0</td>\n",
       "    </tr>\n",
       "    <tr>\n",
       "      <th>1892362</th>\n",
       "      <td>John Wick: Chapter 2</td>\n",
       "      <td>2017</td>\n",
       "      <td>Keanu Reeves</td>\n",
       "      <td>actor</td>\n",
       "      <td>John Wick</td>\n",
       "      <td>1.0</td>\n",
       "    </tr>\n",
       "    <tr>\n",
       "      <th>1892378</th>\n",
       "      <td>Siberia</td>\n",
       "      <td>2018</td>\n",
       "      <td>Keanu Reeves</td>\n",
       "      <td>actor</td>\n",
       "      <td>Lucas Hill</td>\n",
       "      <td>1.0</td>\n",
       "    </tr>\n",
       "  </tbody>\n",
       "</table>\n",
       "</div>"
      ],
      "text/plain": [
       "                                 title  year          name   type  \\\n",
       "1892390                     The Matrix  1999  Keanu Reeves  actor   \n",
       "1892397               The Replacements  2000  Keanu Reeves  actor   \n",
       "1892358                      Hard Ball  2001  Keanu Reeves  actor   \n",
       "1892383                 Sweet November  2001  Keanu Reeves  actor   \n",
       "1892348                    Constantine  2005  Keanu Reeves  actor   \n",
       "1892388                 The Lake House  2006  Keanu Reeves  actor   \n",
       "1892382                   Street Kings  2008  Keanu Reeves  actor   \n",
       "1892385  The Day the Earth Stood Still  2008  Keanu Reeves  actor   \n",
       "1892359                  Henry's Crime  2010  Keanu Reeves  actor   \n",
       "1892342                       47 Ronin  2013  Keanu Reeves  actor   \n",
       "1892361                      John Wick  2014  Keanu Reeves  actor   \n",
       "1892366                    Knock Knock  2015  Keanu Reeves  actor   \n",
       "1892399                The Whole Truth  2016  Keanu Reeves  actor   \n",
       "1892362           John Wick: Chapter 2  2017  Keanu Reeves  actor   \n",
       "1892378                        Siberia  2018  Keanu Reeves  actor   \n",
       "\n",
       "                    character    n  \n",
       "1892390                   Neo  1.0  \n",
       "1892397           Shane Falco  1.0  \n",
       "1892358         Conor O'Neill  1.0  \n",
       "1892383           Nelson Moss  1.0  \n",
       "1892348      John Constantine  1.0  \n",
       "1892388            Alex Wyler  1.0  \n",
       "1892382  Detective Tom Ludlow  1.0  \n",
       "1892385                Klaatu  1.0  \n",
       "1892359           Henry Torne  1.0  \n",
       "1892342                   Kai  1.0  \n",
       "1892361             John Wick  1.0  \n",
       "1892366                  Evan  1.0  \n",
       "1892399                Ramsey  1.0  \n",
       "1892362             John Wick  1.0  \n",
       "1892378            Lucas Hill  1.0  "
      ]
     },
     "execution_count": 25,
     "metadata": {},
     "output_type": "execute_result"
    }
   ],
   "source": [
    "leading_keanu_movies = keanu_movies[keanu_movies.n == 1.0]\n",
    "leading_keanu_movies_after_99 = leading_keanu_movies[1999 <= leading_keanu_movies.year].sort_values('year')\n",
    "leading_keanu_movies_after_99"
   ]
  },
  {
   "cell_type": "markdown",
   "metadata": {},
   "source": [
    "### Section I - Q11: \n",
    "\n",
    "(A) List the total number of actor and actress roles available from 1950 - 1960\n",
    "\n",
    "(B) List the total number of actor and actress roles available from 2007 - 2017"
   ]
  },
  {
   "cell_type": "code",
   "execution_count": 26,
   "metadata": {
    "tags": []
   },
   "outputs": [
    {
     "data": {
      "text/plain": [
       "234635"
      ]
     },
     "execution_count": 26,
     "metadata": {},
     "output_type": "execute_result"
    }
   ],
   "source": [
    "cast_50s = cast[(1950 <= cast.year) & (cast.year <= 1960)]\n",
    "len(cast_50s)"
   ]
  },
  {
   "cell_type": "code",
   "execution_count": 30,
   "metadata": {
    "tags": []
   },
   "outputs": [
    {
     "data": {
      "text/plain": [
       "1452413"
      ]
     },
     "execution_count": 30,
     "metadata": {},
     "output_type": "execute_result"
    }
   ],
   "source": [
    "cast_2007 = cast[(2007 <= cast.year) & (cast.year <= 2017)]\n",
    "len(cast_2007)"
   ]
  },
  {
   "cell_type": "markdown",
   "metadata": {},
   "source": [
    "### Section I - Q12: \n",
    "\n",
    "(A) List the total number of leading roles available from 2000 to present\n",
    "\n",
    "(B) List the total number of non-leading roles available from 2000 - present (exclude support cast)\n",
    "\n",
    "(C) List the total number of support\\extra-credit roles available from 2000 - present"
   ]
  },
  {
   "cell_type": "code",
   "execution_count": 34,
   "metadata": {
    "tags": []
   },
   "outputs": [
    {
     "data": {
      "text/plain": [
       "60568"
      ]
     },
     "execution_count": 34,
     "metadata": {},
     "output_type": "execute_result"
    }
   ],
   "source": [
    "cast_post2000 = cast[2000 <= cast.year]\n",
    "\n",
    "leading_post_2000 = cast_post2000[cast_post2000.n == 1.0]\n",
    "len(leading_post_2000)"
   ]
  },
  {
   "cell_type": "code",
   "execution_count": 35,
   "metadata": {
    "tags": []
   },
   "outputs": [
    {
     "data": {
      "text/plain": [
       "1001710"
      ]
     },
     "execution_count": 35,
     "metadata": {},
     "output_type": "execute_result"
    }
   ],
   "source": [
    "non_leading_post_2000 = cast_post2000[(cast_post2000.n != 1.0) & (cast_post2000.n.notnull())]\n",
    "len(non_leading_post_2000)"
   ]
  },
  {
   "cell_type": "code",
   "execution_count": 36,
   "metadata": {
    "tags": []
   },
   "outputs": [
    {
     "data": {
      "text/plain": [
       "887484"
      ]
     },
     "execution_count": 36,
     "metadata": {},
     "output_type": "execute_result"
    }
   ],
   "source": [
    "support_post_2000 = cast_post2000[cast_post2000.n.isnull()]\n",
    "len(support_post_2000)"
   ]
  },
  {
   "cell_type": "markdown",
   "metadata": {},
   "source": [
    "# Section II - Aggregations, Transformations and Visualizations"
   ]
  },
  {
   "cell_type": "markdown",
   "metadata": {},
   "source": [
    "## What are the top ten most common movie names of all time?\n"
   ]
  },
  {
   "cell_type": "code",
   "execution_count": 27,
   "metadata": {},
   "outputs": [
    {
     "data": {
      "text/plain": [
       "Hamlet                  20\n",
       "Carmen                  17\n",
       "Macbeth                 16\n",
       "Maya                    12\n",
       "Temptation              12\n",
       "The Outsider            12\n",
       "Freedom                 11\n",
       "The Three Musketeers    11\n",
       "Honeymoon               11\n",
       "Othello                 11\n",
       "Name: title, dtype: int64"
      ]
     },
     "execution_count": 27,
     "metadata": {},
     "output_type": "execute_result"
    }
   ],
   "source": [
    "top_ten = movies.title.value_counts()[:10]\n",
    "top_ten"
   ]
  },
  {
   "cell_type": "markdown",
   "metadata": {},
   "source": [
    "### Plot the top ten common movie names of all time"
   ]
  },
  {
   "cell_type": "code",
   "execution_count": 28,
   "metadata": {},
   "outputs": [
    {
     "data": {
      "text/plain": [
       "<Axes: >"
      ]
     },
     "execution_count": 28,
     "metadata": {},
     "output_type": "execute_result"
    },
    {
     "data": {
      "image/png": "[encoded data removed]",
      "text/plain": [
       "<Figure size 640x480 with 1 Axes>"
      ]
     },
     "metadata": {},
     "output_type": "display_data"
    }
   ],
   "source": [
    "top_ten.plot(kind='barh')"
   ]
  },
  {
   "cell_type": "markdown",
   "metadata": {},
   "source": [
    "### Section II - Q1:  Which years in the 2000s saw the most movies released? (Show top 3)"
   ]
  },
  {
   "cell_type": "code",
   "execution_count": null,
   "metadata": {},
   "outputs": [],
   "source": []
  },
  {
   "cell_type": "markdown",
   "metadata": {},
   "source": [
    "### Section II - Q2: # Plot the total number of films released per-decade (1890, 1900, 1910,....)\n",
    "- Hint: Dividing the year and multiplying with a number might give you the decade the year falls into!\n",
    "- You might need to sort before plotting"
   ]
  },
  {
   "cell_type": "code",
   "execution_count": null,
   "metadata": {},
   "outputs": [],
   "source": []
  },
  {
   "cell_type": "markdown",
   "metadata": {},
   "source": [
    "### Section II - Q3: \n",
    "\n",
    "(A) What are the top 10 most common character names in movie history?\n",
    "\n",
    "(B) Who are the top 10 people most often credited as \"Herself\" in movie history?\n",
    "\n",
    "(C) Who are the top 10 people most often credited as \"Himself\" in movie history?"
   ]
  },
  {
   "cell_type": "code",
   "execution_count": null,
   "metadata": {},
   "outputs": [],
   "source": []
  },
  {
   "cell_type": "code",
   "execution_count": null,
   "metadata": {},
   "outputs": [],
   "source": []
  },
  {
   "cell_type": "code",
   "execution_count": null,
   "metadata": {},
   "outputs": [],
   "source": []
  },
  {
   "cell_type": "markdown",
   "metadata": {},
   "source": [
    "### Section II - Q4: \n",
    "\n",
    "(A) What are the top 10 most frequent roles that start with the word \"Zombie\"?\n",
    "\n",
    "(B) What are the top 10 most frequent roles that start with the word \"Police\"?\n",
    "\n",
    "- Hint: The `startswith()` function might be useful"
   ]
  },
  {
   "cell_type": "code",
   "execution_count": null,
   "metadata": {},
   "outputs": [],
   "source": []
  },
  {
   "cell_type": "code",
   "execution_count": null,
   "metadata": {},
   "outputs": [],
   "source": []
  },
  {
   "cell_type": "markdown",
   "metadata": {},
   "source": [
    "### Section II - Q5: Plot how many roles 'Keanu Reeves' has played in each year of his career."
   ]
  },
  {
   "cell_type": "code",
   "execution_count": null,
   "metadata": {},
   "outputs": [],
   "source": []
  },
  {
   "cell_type": "markdown",
   "metadata": {},
   "source": [
    "### Section II - Q6: Plot the cast positions (n-values) of Keanu Reeve's roles through his career over the years.\n"
   ]
  },
  {
   "cell_type": "code",
   "execution_count": null,
   "metadata": {},
   "outputs": [],
   "source": []
  },
  {
   "cell_type": "markdown",
   "metadata": {},
   "source": [
    "### Section II - Q7: Plot the number of \"Hamlet\" films made by each decade"
   ]
  },
  {
   "cell_type": "code",
   "execution_count": null,
   "metadata": {},
   "outputs": [],
   "source": []
  },
  {
   "cell_type": "markdown",
   "metadata": {},
   "source": [
    "### Section II - Q8: \n",
    "\n",
    "(A) How many leading roles were available to both actors and actresses, in the 1960s (1960-1969)?\n",
    "\n",
    "(B) How many leading roles were available to both actors and actresses, in the 2000s (2000-2009)?\n",
    "\n",
    "- Hint: A specific value of n might indicate a leading role"
   ]
  },
  {
   "cell_type": "code",
   "execution_count": null,
   "metadata": {},
   "outputs": [],
   "source": []
  },
  {
   "cell_type": "code",
   "execution_count": null,
   "metadata": {},
   "outputs": [],
   "source": []
  },
  {
   "cell_type": "markdown",
   "metadata": {},
   "source": [
    "### Section II - Q9: List, in order by year, each of the films in which Frank Oz has played more than 1 role."
   ]
  },
  {
   "cell_type": "code",
   "execution_count": null,
   "metadata": {},
   "outputs": [],
   "source": []
  },
  {
   "cell_type": "markdown",
   "metadata": {},
   "source": [
    "### Section II - Q10: List each of the characters that Frank Oz has portrayed at least twice"
   ]
  },
  {
   "cell_type": "code",
   "execution_count": null,
   "metadata": {},
   "outputs": [],
   "source": []
  },
  {
   "cell_type": "markdown",
   "metadata": {},
   "source": [
    "# Section III - Advanced Merging, Querying and Visualizations"
   ]
  },
  {
   "cell_type": "markdown",
   "metadata": {},
   "source": [
    "## Make a bar plot with the following conditions\n",
    "- Frequency of the number of movies with \"Christmas\" in their title \n",
    "- Movies should be such that they are released in the USA.\n",
    "- Show the frequency plot by month"
   ]
  },
  {
   "cell_type": "code",
   "execution_count": 29,
   "metadata": {},
   "outputs": [
    {
     "data": {
      "text/plain": [
       "<Axes: >"
      ]
     },
     "execution_count": 29,
     "metadata": {},
     "output_type": "execute_result"
    },
    {
     "data": {
      "image/png": "[encoded data removed]",
      "text/plain": [
       "<Figure size 640x480 with 1 Axes>"
      ]
     },
     "metadata": {},
     "output_type": "display_data"
    }
   ],
   "source": [
    "christmas = release_dates[(release_dates.title.str.contains('Christmas')) & (release_dates.country == 'USA')]\n",
    "christmas.date.dt.month.value_counts().sort_index().plot(kind='bar')"
   ]
  },
  {
   "cell_type": "markdown",
   "metadata": {},
   "source": [
    "### Section III - Q1: Make a bar plot with the following conditions\n",
    "- Frequency of the number of movies with \"Summer\" in their title \n",
    "- Movies should be such that they are released in the USA.\n",
    "- Show the frequency plot by month"
   ]
  },
  {
   "cell_type": "code",
   "execution_count": null,
   "metadata": {},
   "outputs": [],
   "source": []
  },
  {
   "cell_type": "markdown",
   "metadata": {},
   "source": [
    "### Section III - Q2: Make a bar plot with the following conditions\n",
    "- Frequency of the number of movies with \"Action\" in their title \n",
    "- Movies should be such that they are released in the USA.\n",
    "- Show the frequency plot by week"
   ]
  },
  {
   "cell_type": "code",
   "execution_count": null,
   "metadata": {},
   "outputs": [],
   "source": []
  },
  {
   "cell_type": "markdown",
   "metadata": {},
   "source": [
    "### Section III - Q3: Show all the movies in which Keanu Reeves has played the lead role along with their   release date in the USA sorted by the date of release\n",
    "- Hint: You might need to join or merge two datasets!"
   ]
  },
  {
   "cell_type": "code",
   "execution_count": null,
   "metadata": {},
   "outputs": [],
   "source": [
    " "
   ]
  },
  {
   "cell_type": "markdown",
   "metadata": {},
   "source": [
    "### Section III - Q4: Make a bar plot showing the months in which movies with Keanu Reeves tend to be released in the USA?"
   ]
  },
  {
   "cell_type": "code",
   "execution_count": null,
   "metadata": {},
   "outputs": [],
   "source": []
  },
  {
   "cell_type": "markdown",
   "metadata": {},
   "source": [
    "### Section III - Q5: Make a bar plot showing the years in which movies with Ian McKellen tend to be released in the USA?"
   ]
  },
  {
   "cell_type": "code",
   "execution_count": null,
   "metadata": {},
   "outputs": [],
   "source": []
  }
 ],
 "metadata": {
  "kernelspec": {
   "display_name": "Python 3 (ipykernel)",
   "language": "python",
   "name": "python3"
  },
  "language_info": {
   "codemirror_mode": {
    "name": "ipython",
    "version": 3
   },
   "file_extension": ".py",
   "mimetype": "text/x-python",
   "name": "python",
   "nbconvert_exporter": "python",
   "pygments_lexer": "ipython3",
   "version": "3.10.10"
  }
 },
 "nbformat": 4,
 "nbformat_minor": 4
}
