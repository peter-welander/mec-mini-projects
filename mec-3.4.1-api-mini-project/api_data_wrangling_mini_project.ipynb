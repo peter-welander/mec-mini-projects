{
 "cells": [
  {
   "cell_type": "markdown",
   "metadata": {},
   "source": [
    "This exercise will require you to pull some data from https://data.nasdaq.com/ (formerly Quandl API)."
   ]
  },
  {
   "cell_type": "markdown",
   "metadata": {},
   "source": [
    "As a first step, you will need to register a free account on the https://data.nasdaq.com/ website."
   ]
  },
  {
   "cell_type": "markdown",
   "metadata": {},
   "source": [
    "After you register, you will be provided with a unique API key, that you should store:\n",
    "\n",
    "*Note*: Use a `.env` file and put your key in there and `python-dotenv` to access it in this notebook. \n",
    "\n",
    "The code below uses a key that was used when generating this project but has since been deleted. Never submit your keys to source control. There is a `.env-example` file in this repository to illusrtate what you need. Copy that to a file called `.env` and use your own api key in that `.env` file. Make sure you also have a `.gitignore` file with a line for `.env` added to it. \n",
    "\n",
    "The standard Python gitignore is [here](https://github.com/github/gitignore/blob/master/Python.gitignore) you can just copy that. "
   ]
  },
  {
   "cell_type": "code",
   "execution_count": 2,
   "metadata": {
    "tags": []
   },
   "outputs": [],
   "source": [
    "# get api key from your .env file\n",
    "import os\n",
    "from dotenv import load_dotenv  # if missing this module, simply run `pip install python-dotenv`\n",
    "\n",
    "load_dotenv()\n",
    "API_KEY = os.getenv('NASDAQ_API_KEY')\n",
    "\n",
    "# print(API_KEY)"
   ]
  },
  {
   "cell_type": "markdown",
   "metadata": {},
   "source": [
    "Nasdaq Data has a large number of data sources, but, unfortunately, most of them require a Premium subscription. Still, there are also a good number of free datasets."
   ]
  },
  {
   "cell_type": "markdown",
   "metadata": {},
   "source": [
    "For this mini project, we will focus on equities data from the Frankfurt Stock Exhange (FSE), which is available for free. We'll try and analyze the stock prices of a company called Carl Zeiss Meditec, which manufactures tools for eye examinations, as well as medical lasers for laser eye surgery: https://www.zeiss.com/meditec/int/home.html. The company is listed under the stock ticker AFX_X."
   ]
  },
  {
   "cell_type": "markdown",
   "metadata": {},
   "source": [
    "You can find the detailed Nasdaq Data API instructions here: https://docs.data.nasdaq.com/docs/in-depth-usage"
   ]
  },
  {
   "cell_type": "markdown",
   "metadata": {},
   "source": [
    "While there is a dedicated Python package for connecting to the Nasdaq API, we would prefer that you use the *requests* package, which can be easily downloaded using *pip* or *conda*. You can find the documentation for the package here: http://docs.python-requests.org/en/master/ "
   ]
  },
  {
   "cell_type": "markdown",
   "metadata": {},
   "source": [
    "Finally, apart from the *requests* package, you are encouraged to not use any third party Python packages, such as *pandas*, and instead focus on what's available in the Python Standard Library (the *collections* module might come in handy: https://pymotw.com/3/collections/).\n",
    "Also, since you won't have access to DataFrames, you are encouraged to us Python's native data structures - preferably dictionaries, though some questions can also be answered using lists.\n",
    "You can read more on these data structures here: https://docs.python.org/3/tutorial/datastructures.html"
   ]
  },
  {
   "cell_type": "markdown",
   "metadata": {},
   "source": [
    "Keep in mind that the JSON responses you will be getting from the API map almost one-to-one to Python's dictionaries. Unfortunately, they can be very nested, so make sure you read up on indexing dictionaries in the documentation provided above."
   ]
  },
  {
   "cell_type": "code",
   "execution_count": 3,
   "metadata": {},
   "outputs": [],
   "source": [
    "# First, import the relevant modules\n",
    "import requests\n",
    "import json\n",
    "import pprint"
   ]
  },
  {
   "cell_type": "markdown",
   "metadata": {},
   "source": [
    "Note: API's can change a bit with each version, for this exercise it is reccomended to use the nasdaq api at `https://data.nasdaq.com/api/v3/`. This is the same api as what used to be quandl so `https://www.quandl.com/api/v3/` should work too.\n",
    "\n",
    "Hint: We are looking for the `AFX_X` data on the `datasets/FSE/` dataset."
   ]
  },
  {
   "cell_type": "code",
   "execution_count": 4,
   "metadata": {},
   "outputs": [
    {
     "name": "stdout",
     "output_type": "stream",
     "text": [
      "{'dataset_data': {'collapse': None,\n",
      "                  'column_index': None,\n",
      "                  'column_names': ['Date',\n",
      "                                   'Open',\n",
      "                                   'High',\n",
      "                                   'Low',\n",
      "                                   'Close',\n",
      "                                   'Change',\n",
      "                                   'Traded Volume',\n",
      "                                   'Turnover',\n",
      "                                   'Last Price of the Day',\n",
      "                                   'Daily Traded Units',\n",
      "                                   'Daily Turnover'],\n",
      "                  'data': [['2017-01-02',\n",
      "                            34.99,\n",
      "                            35.94,\n",
      "                            34.99,\n",
      "                            35.8,\n",
      "                            None,\n",
      "                            44700.0,\n",
      "                            1590561.0,\n",
      "                            None,\n",
      "                            None,\n",
      "                            None]],\n",
      "                  'end_date': '2017-01-02',\n",
      "                  'frequency': 'daily',\n",
      "                  'limit': None,\n",
      "                  'order': None,\n",
      "                  'start_date': '2017-01-01',\n",
      "                  'transform': None}}\n"
     ]
    }
   ],
   "source": [
    "# Now, call the Nasdaq API and pull out a small sample of the data (only one day) to get a glimpse\n",
    "# into the JSON structure that will be returned\n",
    "api_url = 'https://data.nasdaq.com/api/v3/datasets/FSE/AFX_X/data.json'\n",
    "params = {\n",
    "    'api_key': API_KEY,\n",
    "    'start_date': '2017-01-01',\n",
    "    'end_date': '2017-01-02',\n",
    "}\n",
    "json_response = requests.get(url=api_url, params=params)\n",
    "json_response.raise_for_status()\n",
    "response = json.loads(json_response.content.decode('utf-8'))\n",
    "pprint.pprint(response)"
   ]
  },
  {
   "cell_type": "code",
   "execution_count": 5,
   "metadata": {},
   "outputs": [],
   "source": [
    "# Inspect the JSON structure of the object you created, and take note of how nested it is,\n",
    "# as well as the overall structure"
   ]
  },
  {
   "cell_type": "markdown",
   "metadata": {},
   "source": [
    "These are your tasks for this mini project:\n",
    "\n",
    "1. Collect data from the Franfurt Stock Exchange, for the ticker AFX_X, for the whole year 2017 (keep in mind that the date format is YYYY-MM-DD).\n",
    "2. Convert the returned JSON object into a Python dictionary.\n",
    "3. Calculate what the highest and lowest opening prices were for the stock in this period.\n",
    "4. What was the largest change in any one day (based on High and Low price)?\n",
    "5. What was the largest change between any two days (based on Closing Price)?\n",
    "6. What was the average daily trading volume during this year?\n",
    "7. (Optional) What was the median trading volume during this year. (Note: you may need to implement your own function for calculating the median.)"
   ]
  },
  {
   "cell_type": "code",
   "execution_count": 7,
   "metadata": {},
   "outputs": [
    {
     "name": "stdout",
     "output_type": "stream",
     "text": [
      "[{'Date': '2017-12-29', 'Open': 51.76, 'High': 51.94, 'Low': 51.45, 'Close': 51.76, 'Change': None, 'Traded Volume': 34640.0, 'Turnover': 1792304.0, 'Last Price of the Day': None, 'Daily Traded Units': None, 'Daily Turnover': None}, {'Date': '2017-12-28', 'Open': 51.65, 'High': 51.82, 'Low': 51.43, 'Close': 51.6, 'Change': None, 'Traded Volume': 40660.0, 'Turnover': 2099024.0, 'Last Price of the Day': None, 'Daily Traded Units': None, 'Daily Turnover': None}, {'Date': '2017-12-27', 'Open': 51.45, 'High': 51.89, 'Low': 50.76, 'Close': 51.82, 'Change': None, 'Traded Volume': 57452.0, 'Turnover': 2957018.0, 'Last Price of the Day': None, 'Daily Traded Units': None, 'Daily Turnover': None}, {'Date': '2017-12-22', 'Open': 51.05, 'High': 51.5, 'Low': 50.92, 'Close': 51.32, 'Change': None, 'Traded Volume': 71165.0, 'Turnover': 3641949.0, 'Last Price of the Day': None, 'Daily Traded Units': None, 'Daily Turnover': None}, {'Date': '2017-12-21', 'Open': 51.16, 'High': 51.52, 'Low': 50.9, 'Close': 51.4, 'Change': None, 'Traded Volume': 120649.0, 'Turnover': 6179433.0, 'Last Price of the Day': None, 'Daily Traded Units': None, 'Daily Turnover': None}, {'Date': '2017-12-20', 'Open': 51.88, 'High': 52.04, 'Low': 51.2, 'Close': 51.27, 'Change': None, 'Traded Volume': 50587.0, 'Turnover': 2610258.0, 'Last Price of the Day': None, 'Daily Traded Units': None, 'Daily Turnover': None}, {'Date': '2017-12-19', 'Open': 52.73, 'High': 52.73, 'Low': 51.07, 'Close': 51.66, 'Change': None, 'Traded Volume': 137313.0, 'Turnover': 7102361.0, 'Last Price of the Day': None, 'Daily Traded Units': None, 'Daily Turnover': None}, {'Date': '2017-12-18', 'Open': 52.37, 'High': 52.75, 'Low': 51.61, 'Close': 52.62, 'Change': None, 'Traded Volume': 129733.0, 'Turnover': 6770499.0, 'Last Price of the Day': None, 'Daily Traded Units': None, 'Daily Turnover': None}, {'Date': '2017-12-15', 'Open': 52.7, 'High': 52.7, 'Low': 51.64, 'Close': 52.01, 'Change': None, 'Traded Volume': 204080.0, 'Turnover': 10596319.0, 'Last Price of the Day': None, 'Daily Traded Units': None, 'Daily Turnover': None}, {'Date': '2017-12-14', 'Open': 53.11, 'High': 53.54, 'Low': 52.15, 'Close': 52.67, 'Change': None, 'Traded Volume': 132981.0, 'Turnover': 7016953.0, 'Last Price of the Day': None, 'Daily Traded Units': None, 'Daily Turnover': None}]\n",
      "#3: The lowest and highest opens.\n",
      "The lowest recorded open occurred on 2017-01-24 and was 34.0.\n",
      "The highest recorded open occurred on 2017-12-14 and was 53.11.\n",
      "The following days did not have opens recorded: ['2017-05-01', '2017-04-17', '2017-04-14'].\n",
      "\n",
      "#4 The largest recorded change occurred on 2017-05-11 and was 2.8100000000000023.\n",
      "[51.76, 51.6, 51.82, 51.32, 51.4, 51.27, 51.66, 52.62, 52.01, 52.67]\n",
      "#5: The largest change between two days was -0.3200000000000003 which occurred between 2017-01-02 and 2017-01-03.\n",
      "#6: The average traded volume was 89124.33725490196.\n",
      "#7: The median traded volume was 76286.0.\n"
     ]
    }
   ],
   "source": [
    "# Constants.\n",
    "CLOSE_COL = 'Close'\n",
    "DATE_COL = 'Date'\n",
    "HIGH_COL = 'High'\n",
    "LOW_COL = 'Low'\n",
    "OPEN_COL = 'Open'\n",
    "VOLUME_COL = 'Traded Volume'\n",
    "\n",
    "# 1. Collect the data.\n",
    "params = {\n",
    "    'api_key': API_KEY,\n",
    "    'start_date': '2017-01-01',\n",
    "    'end_date': '2018-01-01',\n",
    "}\n",
    "json_response = requests.get(url=api_url, params=params)\n",
    "json_response.raise_for_status()\n",
    "\n",
    "# 2. Convert the data to a Python dictionary.\n",
    "response = json.loads(json_response.content.decode('utf-8'))\n",
    "column_names = response['dataset_data']['column_names']\n",
    "\n",
    "def to_dict(data_row):\n",
    "    ans = {}\n",
    "    for i, column_name in enumerate(column_names):\n",
    "        ans[column_name] = data_row[i]\n",
    "    return ans\n",
    "\n",
    "data = [to_dict(d) for d in response['dataset_data']['data']]\n",
    "print(data[:10])\n",
    "\n",
    "\n",
    "# 3. Find the lowest and highest open, ignoring days that do not have an open.\n",
    "lowest_open = min((d for d in data if d[OPEN_COL]), key = lambda d: d[OPEN_COL])\n",
    "highest_open = max((d for d in data if d[OPEN_COL]), key = lambda d: d[OPEN_COL])\n",
    "days_without_open = [d for d in data if not d[OPEN_COL]]\n",
    "\n",
    "print('#3: The lowest and highest opens.')\n",
    "print(f'The lowest recorded open occurred on {lowest_open[DATE_COL]} and was {lowest_open[OPEN_COL]}.')\n",
    "print(f'The highest recorded open occurred on {highest_open[DATE_COL]} and was {highest_open[OPEN_COL]}.')\n",
    "print(f'The following days did not have opens recorded: {[d[DATE_COL] for d in days_without_open]}.')\n",
    "print()\n",
    "\n",
    "# 4. Largest change in any one day.\n",
    "def change(d):\n",
    "    return d[HIGH_COL] - d[LOW_COL]\n",
    "largest_change = max((d for d in data if d[HIGH_COL] and d[LOW_COL]), key = change)\n",
    "\n",
    "print(f'#4 The largest recorded change occurred on {largest_change[DATE_COL]} and was {change(largest_change)}.')\n",
    "\n",
    "# 5. Largest change between any two days.\n",
    "sorted_by_date = sorted(data, key = lambda k: k[DATE_COL])\n",
    "print([d[CLOSE_COL] for d in data[:10]])\n",
    "i = max(\n",
    "    # Include consecutive dates that both have recorded closing values.\n",
    "    (i for i in range(len(sorted_by_date) - 2) if sorted_by_date[i][CLOSE_COL] and sorted_by_date[i+1][CLOSE_COL]),\n",
    "    key = lambda k: abs(sorted_by_date[i][CLOSE_COL] - sorted_by_date[i+1][CLOSE_COL])\n",
    ")\n",
    "value = sorted_by_date[i+1][CLOSE_COL] - sorted_by_date[i][CLOSE_COL]\n",
    "print(f'#5: The largest change between two days was {value} which occurred between {sorted_by_date[i][DATE_COL]} and {sorted_by_date[i+1][DATE_COL]}.')\n",
    "\n",
    "# 6. Average trading volume.\n",
    "trading_volumes = [d[VOLUME_COL] for d in data if d[VOLUME_COL]]\n",
    "average_trading_volume = sum(trading_volumes) / len(trading_volumes)\n",
    "\n",
    "print(f'#6: The average traded volume was {average_trading_volume}.')\n",
    "\n",
    "# 7 Median trading volume.\n",
    "def median(data):\n",
    "    s = sorted(data)\n",
    "    if len(s) % 2 == 1:\n",
    "        return s[len(s)//2]\n",
    "    return (s[len(s)//2 - 1] + s[len(s)//2]) / 2\n",
    "\n",
    "print(f'#7: The median traded volume was {median(trading_volumes)}.')\n"
   ]
  },
  {
   "cell_type": "code",
   "execution_count": null,
   "metadata": {},
   "outputs": [],
   "source": []
  }
 ],
 "metadata": {
  "interpreter": {
   "hash": "4885f37acae9217c235118400878352aafa7b76e66df698a1f601374f86939a7"
  },
  "kernelspec": {
   "display_name": "Python 3 (ipykernel)",
   "language": "python",
   "name": "python3"
  },
  "language_info": {
   "codemirror_mode": {
    "name": "ipython",
    "version": 3
   },
   "file_extension": ".py",
   "mimetype": "text/x-python",
   "name": "python",
   "nbconvert_exporter": "python",
   "pygments_lexer": "ipython3",
   "version": "3.10.10"
  }
 },
 "nbformat": 4,
 "nbformat_minor": 4
}
